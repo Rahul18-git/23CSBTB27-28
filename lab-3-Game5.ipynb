{
  "nbformat": 4,
  "nbformat_minor": 0,
  "metadata": {
    "colab": {
      "provenance": [],
      "authorship_tag": "ABX9TyO8HcW77y7M8gcXNVX91TKo",
      "include_colab_link": true
    },
    "kernelspec": {
      "name": "python3",
      "display_name": "Python 3"
    },
    "language_info": {
      "name": "python"
    }
  },
  "cells": [
    {
      "cell_type": "markdown",
      "metadata": {
        "id": "view-in-github",
        "colab_type": "text"
      },
      "source": [
        "<a href=\"https://colab.research.google.com/github/Rahul18-git/23CSBTB27-28/blob/main/lab-3-Game5.ipynb\" target=\"_parent\"><img src=\"https://colab.research.google.com/assets/colab-badge.svg\" alt=\"Open In Colab\"/></a>"
      ]
    },
    {
      "cell_type": "code",
      "execution_count": 1,
      "metadata": {
        "id": "rnpC07vhuK54"
      },
      "outputs": [],
      "source": [
        "def result(self, board, square):\n",
        "    \"\"\"Place a marker for current player on square.\"\"\"\n",
        "    if square not in self.squares or square in board:\n",
        "        raise ValueError(\"Invalid move or square already taken\")\n",
        "\n",
        "    player = board.to_move\n",
        "    new_board = board.new({square: player}, to_move=('O' if player == 'X' else 'X'))\n",
        "\n",
        "    # Check if the current move results in a win\n",
        "    if self.k_in_row(new_board, player, square, self.k):\n",
        "        new_board.utility = 1 if player == 'X' else -1\n",
        "    else:\n",
        "        # Check if the board is full (draw)\n",
        "        if not self.actions(new_board):\n",
        "            new_board.utility = 0\n",
        "        else:\n",
        "            new_board.utility = 0\n",
        "\n",
        "    return new_board\n"
      ]
    }
  ]
}