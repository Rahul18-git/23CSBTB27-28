{
  "nbformat": 4,
  "nbformat_minor": 0,
  "metadata": {
    "colab": {
      "provenance": [],
      "authorship_tag": "ABX9TyPtGp3fKPV8igPSl7rKGlqX",
      "include_colab_link": true
    },
    "kernelspec": {
      "name": "python3",
      "display_name": "Python 3"
    },
    "language_info": {
      "name": "python"
    }
  },
  "cells": [
    {
      "cell_type": "markdown",
      "metadata": {
        "id": "view-in-github",
        "colab_type": "text"
      },
      "source": [
        "<a href=\"https://colab.research.google.com/github/Rahul18-git/23CSBTB27-28/blob/main/game6.ipynb\" target=\"_parent\"><img src=\"https://colab.research.google.com/assets/colab-badge.svg\" alt=\"Open In Colab\"/></a>"
      ]
    },
    {
      "cell_type": "code",
      "execution_count": 5,
      "metadata": {
        "id": "vR871ydpvADa"
      },
      "outputs": [],
      "source": [
        "class Board:\n",
        "    def __init__(self, width=8, height=8, to_move=None, **kwds):\n",
        "        \"\"\"Initialize the board with given width, height, and any additional keyword arguments.\"\"\"\n",
        "        super().__init__()\n",
        "        self.width = width\n",
        "        self.height = height\n",
        "        self.to_move = to_move\n",
        "        self.utility = 0\n",
        "        self.empty = kwds.get('empty', '.')\n",
        "        self.off = kwds.get('off', '#')\n",
        "        self.update(kwds)\n",
        "\n",
        "    def new(self, changes: dict, **kwds) -> 'Board':\n",
        "        \"\"\"Given a dict of {(x, y): contents} changes, return a new Board with the changes.\"\"\"\n",
        "        board = Board(width=self.width, height=self.height, to_move=self.to_move, **kwds)\n",
        "        board.update(self)\n",
        "        board.update(changes)\n",
        "        return board\n",
        "\n",
        "    def missing(self, loc):\n",
        "        \"\"\"Check if the location is within the board bounds, return empty if valid, else off.\"\"\"\n",
        "        x, y = loc\n",
        "        if 0 <= x < self.width and 0 <= y < self.height:\n",
        "            return self.get((x, y), self.empty)\n",
        "        else:\n",
        "            return self.off\n",
        "\n",
        "    def __hash__(self):\n",
        "        \"\"\"Generate a unique hash for the board based on its content and current player.\"\"\"\n",
        "        return hash(tuple(sorted(self.items()))) + hash(self.to_move)\n",
        "\n",
        "    def __repr__(self):\n",
        "        \"\"\"Return a string representation of the board.\"\"\"\n",
        "        def row(y):\n",
        "            return ' '.join(self.get((x, y), self.empty) for x in range(self.width))\n",
        "        return '\\n'.join(row(y) for y in range(self.height)) + '\\n'\n"
      ]
    }
  ]
}